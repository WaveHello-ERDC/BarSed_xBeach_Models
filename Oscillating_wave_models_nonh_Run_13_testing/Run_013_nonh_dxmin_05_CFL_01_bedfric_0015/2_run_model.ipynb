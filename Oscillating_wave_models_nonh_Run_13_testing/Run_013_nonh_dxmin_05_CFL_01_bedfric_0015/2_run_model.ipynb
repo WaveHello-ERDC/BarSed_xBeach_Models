{
 "cells": [
  {
   "cell_type": "markdown",
   "metadata": {},
   "source": [
    "### Run xbeach model\n",
    "This file just runs the xbeach model\n",
    "\n",
    "Date: 08/01/24\n",
    "\n",
    "Author: WaveHello"
   ]
  },
  {
   "cell_type": "code",
   "execution_count": 1,
   "metadata": {},
   "outputs": [
    {
     "name": "stdout",
     "output_type": "stream",
     "text": [
      "**no xbTools installation found in environment, adding parent path of notebook to see if it works\n"
     ]
    }
   ],
   "source": [
    "import os\n",
    "import sys\n",
    "\n",
    "# method to import xbtools with try routine\n",
    "try:\n",
    "    import xbTools\n",
    "except ImportError:\n",
    "    print('**no xbTools installation found in environment, adding parent path of notebook to see if it works')\n",
    "    sys.path.append(r\"..\\..\\..\\xbeach-toolbox\")"
   ]
  },
  {
   "cell_type": "code",
   "execution_count": 2,
   "metadata": {},
   "outputs": [],
   "source": [
    "from xbTools.general.executing_runs import generate_batch_script, run_batch_script"
   ]
  },
  {
   "cell_type": "code",
   "execution_count": 3,
   "metadata": {},
   "outputs": [],
   "source": [
    "# Functions \n",
    "def get_script_directory():\n",
    "    try:\n",
    "        # This will work if the script is run directly\n",
    "        script_path = os.path.abspath(__file__)\n",
    "    except NameError:\n",
    "        # This will work in an interactive environment like Jupyter\n",
    "        script_path = os.path.abspath('')\n",
    "    \n",
    "    return script_path"
   ]
  },
  {
   "cell_type": "code",
   "execution_count": 4,
   "metadata": {},
   "outputs": [
    {
     "name": "stdout",
     "output_type": "stream",
     "text": [
      "Batch file 'e:\\BarSed_xBeach_Models\\Oscillating_wave_models_nonh\\Run_013_nonh_dxmin_05_CFL_01_bedfric_0015\\run_model.bat' executed successfully.\n"
     ]
    }
   ],
   "source": [
    "# Get the script directory\n",
    "# Get the folder of the current script\n",
    "script_dir = get_script_directory()\n",
    "\n",
    "# Generate the model directory\n",
    "model_dir = os.path.join(script_dir, f\"\")\n",
    "\n",
    "# Need to batch file path\n",
    "batch_file_name = \"run_model.bat\"\n",
    "batch_file_path = os.path.join(model_dir, batch_file_name)\n",
    "\n",
    "# Run the batch file\n",
    "run_batch_script(batch_file_path, flag_print_Blog = False)"
   ]
  },
  {
   "cell_type": "code",
   "execution_count": null,
   "metadata": {},
   "outputs": [],
   "source": []
  }
 ],
 "metadata": {
  "kernelspec": {
   "display_name": "ERDC",
   "language": "python",
   "name": "python3"
  },
  "language_info": {
   "codemirror_mode": {
    "name": "ipython",
    "version": 3
   },
   "file_extension": ".py",
   "mimetype": "text/x-python",
   "name": "python",
   "nbconvert_exporter": "python",
   "pygments_lexer": "ipython3",
   "version": "3.12.3"
  }
 },
 "nbformat": 4,
 "nbformat_minor": 2
}
