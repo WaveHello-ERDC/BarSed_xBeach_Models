{
 "cells": [
  {
   "cell_type": "markdown",
   "metadata": {},
   "source": [
    "### Analyzing the model velocity data vs. the measured velocity data above the sand bar\n",
    "\n",
    "Date: 08/01/24\n",
    "\n",
    "Author: WaveHello"
   ]
  },
  {
   "cell_type": "code",
   "execution_count": 31,
   "metadata": {},
   "outputs": [],
   "source": [
    "# import default modules\n",
    "import numpy as np\n",
    "import matplotlib.pyplot as plt\n",
    "import sys\n",
    "import os\n",
    "import pandas as pd\n",
    "import math\n",
    "from scipy.interpolate import interp1d\n",
    "\n",
    "# Set global constants\n",
    "PI = np.pi\n",
    "\n",
    "# method to import xbtools with try routine\n",
    "try:\n",
    "    import xbTools\n",
    "except ImportError:\n",
    "    print('**no xbTools installation found in environment, adding parent path of notebook to see if it works')\n",
    "    sys.path.append(r\"..\\..\\..\\xbeach-toolbox\")"
   ]
  },
  {
   "cell_type": "code",
   "execution_count": 32,
   "metadata": {},
   "outputs": [],
   "source": [
    "from xbTools.xbeachpost import XBeachModelAnalysis\n",
    "from xbTools.general.executing_runs import generate_batch_script, run_batch_script"
   ]
  },
  {
   "cell_type": "code",
   "execution_count": 33,
   "metadata": {},
   "outputs": [],
   "source": [
    "# Functions \n",
    "def get_script_directory():\n",
    "    try:\n",
    "        # This will work if the script is run directly\n",
    "        script_path = os.path.abspath(__file__)\n",
    "    except NameError:\n",
    "        # This will work in an interactive environment like Jupyter\n",
    "        script_path = os.path.abspath('')\n",
    "    \n",
    "    return script_path\n",
    "\n",
    "def find_closest(array, target):\n",
    "    # Convert array to a NumPy array if it is not already\n",
    "    array = np.array(array)\n",
    "    \n",
    "    # Compute the absolute differences between each element and the target\n",
    "    diff = np.abs(array - target)\n",
    "    \n",
    "    # Find the index of the minimum difference\n",
    "    idx = diff.argmin()\n",
    "    \n",
    "    # Get the value at that index\n",
    "    closest_value = array[idx]\n",
    "    \n",
    "    return closest_value, idx\n",
    "\n",
    "def calc_RMSE(observed_vals: np.array, predicted_vals: np.array) -> np.float64:\n",
    "    \"\"\"\n",
    "    Calc the Root Mean squared error for a discrete set of data\n",
    "    \"\"\"\n",
    "\n",
    "    # Check that the observed and the predicted are the same length\n",
    "    if observed_vals.shape == predicted_vals.shape:\n",
    "        # Choose one of the arrays since their equal and get the total number of values\n",
    "        num_vals = observed_vals.size\n",
    "    else:\n",
    "        # if the shapes aren't the \n",
    "        raise IndexError(f\"\\nThe shape of observed vals is: {np.shape(observed_vals)}\\n\"\n",
    "                         f\"The shape of predicted vals is: {np.shape(predicted_vals)}\\n\")\n",
    "    \n",
    "    # Calc the sqaured difference between each term\n",
    "    abs_diff = (observed_vals - predicted_vals)**2\n",
    "    \n",
    "    # Calc the term inside of the square root\n",
    "    inside   = np.sum(abs_diff) / num_vals \n",
    "\n",
    "    # Return the RMSE\n",
    "    return np.sqrt(inside)"
   ]
  },
  {
   "cell_type": "code",
   "execution_count": 34,
   "metadata": {},
   "outputs": [],
   "source": [
    "# Import the classes that represent the runs\n",
    "# Add the library to the path\n",
    "sys.path.append(r\"..\\..\\..\\BarSed_Lib\")\n",
    "\n",
    "# Import the library modules\n",
    "\n",
    "from lib.data_classes.Run import Run"
   ]
  },
  {
   "cell_type": "code",
   "execution_count": 35,
   "metadata": {},
   "outputs": [
    {
     "name": "stdout",
     "output_type": "stream",
     "text": [
      "Run082 ADV mat file path: ..\\..\\..\\BarSed_Data\\ADV\\RUN082.mat\n"
     ]
    }
   ],
   "source": [
    "# Import the raw bathymetry\n",
    "# Set the important paths\n",
    "barsed_data_path = r\"..\\..\\..\\BarSed_Data\"\n",
    "\n",
    "# Set the information needed for specifying the run\n",
    "# Run number\n",
    "run_number = \"082\" # NO adv data for this run\n",
    "\n",
    "# Run id\n",
    "run_id = f\"RUN{run_number}\"\n",
    "\n",
    "# Mat file for the first run\n",
    "run_name = r\"{}.mat\".format(run_id)\n",
    "\n",
    "# Adv files information\n",
    "ADV_data_folder_name = r\"ADV\"\n",
    "\n",
    "# Construct the path to the adv data\n",
    "ADV_folder_path = os.path.join(barsed_data_path, ADV_data_folder_name)\n",
    "\n",
    "ADV_run_path = os.path.join(ADV_folder_path, run_name)\n",
    "\n",
    "# Print info\n",
    "print(f\"Run{run_number} ADV mat file path: {ADV_run_path}\")\n"
   ]
  },
  {
   "cell_type": "code",
   "execution_count": 36,
   "metadata": {},
   "outputs": [
    {
     "name": "stdout",
     "output_type": "stream",
     "text": [
      "id: RUN082\n",
      "Start Date: None\n",
      "Wave Data File path: None\n",
      "Num pressure gagues: None\n",
      "Num advs: None\n"
     ]
    }
   ],
   "source": [
    "Run_data = Run(id = run_id, wave_file_path=None,\n",
    "              ADV_file_path = ADV_run_path)\n",
    "\n",
    "print(Run_data)\n"
   ]
  },
  {
   "cell_type": "code",
   "execution_count": 37,
   "metadata": {},
   "outputs": [
    {
     "ename": "FileNotFoundError",
     "evalue": "[Errno 2] No such file or directory: '..\\\\..\\\\..\\\\BarSed_Data\\\\ADV\\\\RUN082.mat'",
     "output_type": "error",
     "traceback": [
      "\u001b[1;31m---------------------------------------------------------------------------\u001b[0m",
      "\u001b[1;31mFileNotFoundError\u001b[0m                         Traceback (most recent call last)",
      "File \u001b[1;32mc:\\Users\\johnm\\anaconda3\\envs\\ERDC\\Lib\\site-packages\\scipy\\io\\matlab\\_mio.py:39\u001b[0m, in \u001b[0;36m_open_file\u001b[1;34m(file_like, appendmat, mode)\u001b[0m\n\u001b[0;32m     38\u001b[0m \u001b[38;5;28;01mtry\u001b[39;00m:\n\u001b[1;32m---> 39\u001b[0m     \u001b[38;5;28;01mreturn\u001b[39;00m \u001b[38;5;28;43mopen\u001b[39;49m\u001b[43m(\u001b[49m\u001b[43mfile_like\u001b[49m\u001b[43m,\u001b[49m\u001b[43m \u001b[49m\u001b[43mmode\u001b[49m\u001b[43m)\u001b[49m, \u001b[38;5;28;01mTrue\u001b[39;00m\n\u001b[0;32m     40\u001b[0m \u001b[38;5;28;01mexcept\u001b[39;00m \u001b[38;5;167;01mOSError\u001b[39;00m \u001b[38;5;28;01mas\u001b[39;00m e:\n\u001b[0;32m     41\u001b[0m     \u001b[38;5;66;03m# Probably \"not found\"\u001b[39;00m\n",
      "\u001b[1;31mFileNotFoundError\u001b[0m: [Errno 2] No such file or directory: '..\\\\..\\\\..\\\\BarSed_Data\\\\ADV\\\\RUN082.mat'",
      "\nDuring handling of the above exception, another exception occurred:\n",
      "\u001b[1;31mFileNotFoundError\u001b[0m                         Traceback (most recent call last)",
      "Cell \u001b[1;32mIn[37], line 1\u001b[0m\n\u001b[1;32m----> 1\u001b[0m \u001b[43mRun_data\u001b[49m\u001b[38;5;241;43m.\u001b[39;49m\u001b[43mload_adv_data\u001b[49m\u001b[43m(\u001b[49m\u001b[43m)\u001b[49m\n\u001b[0;32m      4\u001b[0m \u001b[38;5;66;03m# Get the script directory\u001b[39;00m\n\u001b[0;32m      5\u001b[0m \u001b[38;5;66;03m# Get the folder of the current script\u001b[39;00m\n\u001b[0;32m      6\u001b[0m script_dir \u001b[38;5;241m=\u001b[39m get_script_directory()\n",
      "File \u001b[1;32me:\\BarSed_xBeach_Models\\Oscillating_wave_models_nonh_multi_Runs\\Run_082_nonh_dxmin_05_CFL_01_bedfric_0013\\..\\..\\..\\BarSed_Lib\\lib\\data_classes\\Run.py:164\u001b[0m, in \u001b[0;36mRun.load_adv_data\u001b[1;34m(self, selected_velocity_keys)\u001b[0m\n\u001b[0;32m    161\u001b[0m     \u001b[38;5;28;01mraise\u001b[39;00m \u001b[38;5;167;01mTypeError\u001b[39;00m(\u001b[38;5;124m\"\u001b[39m\u001b[38;5;124mValue should be all, None (<- type None) or a ist of valid keys\u001b[39m\u001b[38;5;124m\"\u001b[39m)\n\u001b[0;32m    163\u001b[0m \u001b[38;5;66;03m# Load the file, need this either way\u001b[39;00m\n\u001b[1;32m--> 164\u001b[0m mat_dict \u001b[38;5;241m=\u001b[39m \u001b[43mscipy\u001b[49m\u001b[38;5;241;43m.\u001b[39;49m\u001b[43mio\u001b[49m\u001b[38;5;241;43m.\u001b[39;49m\u001b[43mloadmat\u001b[49m\u001b[43m(\u001b[49m\u001b[38;5;28;43mself\u001b[39;49m\u001b[38;5;241;43m.\u001b[39;49m\u001b[43mADV_file_path\u001b[49m\u001b[43m)\u001b[49m\n\u001b[0;32m    166\u001b[0m \u001b[38;5;66;03m# Open the mat dict and get to the velocity data\u001b[39;00m\n\u001b[0;32m    167\u001b[0m mat_dict \u001b[38;5;241m=\u001b[39m mat_dict[\u001b[38;5;124m\"\u001b[39m\u001b[38;5;124madv\u001b[39m\u001b[38;5;124m\"\u001b[39m]\n",
      "File \u001b[1;32mc:\\Users\\johnm\\anaconda3\\envs\\ERDC\\Lib\\site-packages\\scipy\\io\\matlab\\_mio.py:225\u001b[0m, in \u001b[0;36mloadmat\u001b[1;34m(file_name, mdict, appendmat, **kwargs)\u001b[0m\n\u001b[0;32m     88\u001b[0m \u001b[38;5;250m\u001b[39m\u001b[38;5;124;03m\"\"\"\u001b[39;00m\n\u001b[0;32m     89\u001b[0m \u001b[38;5;124;03mLoad MATLAB file.\u001b[39;00m\n\u001b[0;32m     90\u001b[0m \n\u001b[1;32m   (...)\u001b[0m\n\u001b[0;32m    222\u001b[0m \u001b[38;5;124;03m    3.14159265+3.14159265j])\u001b[39;00m\n\u001b[0;32m    223\u001b[0m \u001b[38;5;124;03m\"\"\"\u001b[39;00m\n\u001b[0;32m    224\u001b[0m variable_names \u001b[38;5;241m=\u001b[39m kwargs\u001b[38;5;241m.\u001b[39mpop(\u001b[38;5;124m'\u001b[39m\u001b[38;5;124mvariable_names\u001b[39m\u001b[38;5;124m'\u001b[39m, \u001b[38;5;28;01mNone\u001b[39;00m)\n\u001b[1;32m--> 225\u001b[0m \u001b[43m\u001b[49m\u001b[38;5;28;43;01mwith\u001b[39;49;00m\u001b[43m \u001b[49m\u001b[43m_open_file_context\u001b[49m\u001b[43m(\u001b[49m\u001b[43mfile_name\u001b[49m\u001b[43m,\u001b[49m\u001b[43m \u001b[49m\u001b[43mappendmat\u001b[49m\u001b[43m)\u001b[49m\u001b[43m \u001b[49m\u001b[38;5;28;43;01mas\u001b[39;49;00m\u001b[43m \u001b[49m\u001b[43mf\u001b[49m\u001b[43m:\u001b[49m\n\u001b[0;32m    226\u001b[0m \u001b[43m    \u001b[49m\u001b[43mMR\u001b[49m\u001b[43m,\u001b[49m\u001b[43m \u001b[49m\u001b[43m_\u001b[49m\u001b[43m \u001b[49m\u001b[38;5;241;43m=\u001b[39;49m\u001b[43m \u001b[49m\u001b[43mmat_reader_factory\u001b[49m\u001b[43m(\u001b[49m\u001b[43mf\u001b[49m\u001b[43m,\u001b[49m\u001b[43m \u001b[49m\u001b[38;5;241;43m*\u001b[39;49m\u001b[38;5;241;43m*\u001b[39;49m\u001b[43mkwargs\u001b[49m\u001b[43m)\u001b[49m\n\u001b[0;32m    227\u001b[0m \u001b[43m    \u001b[49m\u001b[43mmatfile_dict\u001b[49m\u001b[43m \u001b[49m\u001b[38;5;241;43m=\u001b[39;49m\u001b[43m \u001b[49m\u001b[43mMR\u001b[49m\u001b[38;5;241;43m.\u001b[39;49m\u001b[43mget_variables\u001b[49m\u001b[43m(\u001b[49m\u001b[43mvariable_names\u001b[49m\u001b[43m)\u001b[49m\n",
      "File \u001b[1;32mc:\\Users\\johnm\\anaconda3\\envs\\ERDC\\Lib\\contextlib.py:137\u001b[0m, in \u001b[0;36m_GeneratorContextManager.__enter__\u001b[1;34m(self)\u001b[0m\n\u001b[0;32m    135\u001b[0m \u001b[38;5;28;01mdel\u001b[39;00m \u001b[38;5;28mself\u001b[39m\u001b[38;5;241m.\u001b[39margs, \u001b[38;5;28mself\u001b[39m\u001b[38;5;241m.\u001b[39mkwds, \u001b[38;5;28mself\u001b[39m\u001b[38;5;241m.\u001b[39mfunc\n\u001b[0;32m    136\u001b[0m \u001b[38;5;28;01mtry\u001b[39;00m:\n\u001b[1;32m--> 137\u001b[0m     \u001b[38;5;28;01mreturn\u001b[39;00m \u001b[38;5;28;43mnext\u001b[39;49m\u001b[43m(\u001b[49m\u001b[38;5;28;43mself\u001b[39;49m\u001b[38;5;241;43m.\u001b[39;49m\u001b[43mgen\u001b[49m\u001b[43m)\u001b[49m\n\u001b[0;32m    138\u001b[0m \u001b[38;5;28;01mexcept\u001b[39;00m \u001b[38;5;167;01mStopIteration\u001b[39;00m:\n\u001b[0;32m    139\u001b[0m     \u001b[38;5;28;01mraise\u001b[39;00m \u001b[38;5;167;01mRuntimeError\u001b[39;00m(\u001b[38;5;124m\"\u001b[39m\u001b[38;5;124mgenerator didn\u001b[39m\u001b[38;5;124m'\u001b[39m\u001b[38;5;124mt yield\u001b[39m\u001b[38;5;124m\"\u001b[39m) \u001b[38;5;28;01mfrom\u001b[39;00m \u001b[38;5;28;01mNone\u001b[39;00m\n",
      "File \u001b[1;32mc:\\Users\\johnm\\anaconda3\\envs\\ERDC\\Lib\\site-packages\\scipy\\io\\matlab\\_mio.py:17\u001b[0m, in \u001b[0;36m_open_file_context\u001b[1;34m(file_like, appendmat, mode)\u001b[0m\n\u001b[0;32m     15\u001b[0m \u001b[38;5;129m@contextmanager\u001b[39m\n\u001b[0;32m     16\u001b[0m \u001b[38;5;28;01mdef\u001b[39;00m \u001b[38;5;21m_open_file_context\u001b[39m(file_like, appendmat, mode\u001b[38;5;241m=\u001b[39m\u001b[38;5;124m'\u001b[39m\u001b[38;5;124mrb\u001b[39m\u001b[38;5;124m'\u001b[39m):\n\u001b[1;32m---> 17\u001b[0m     f, opened \u001b[38;5;241m=\u001b[39m \u001b[43m_open_file\u001b[49m\u001b[43m(\u001b[49m\u001b[43mfile_like\u001b[49m\u001b[43m,\u001b[49m\u001b[43m \u001b[49m\u001b[43mappendmat\u001b[49m\u001b[43m,\u001b[49m\u001b[43m \u001b[49m\u001b[43mmode\u001b[49m\u001b[43m)\u001b[49m\n\u001b[0;32m     18\u001b[0m     \u001b[38;5;28;01mtry\u001b[39;00m:\n\u001b[0;32m     19\u001b[0m         \u001b[38;5;28;01myield\u001b[39;00m f\n",
      "File \u001b[1;32mc:\\Users\\johnm\\anaconda3\\envs\\ERDC\\Lib\\site-packages\\scipy\\io\\matlab\\_mio.py:45\u001b[0m, in \u001b[0;36m_open_file\u001b[1;34m(file_like, appendmat, mode)\u001b[0m\n\u001b[0;32m     43\u001b[0m     \u001b[38;5;28;01mif\u001b[39;00m appendmat \u001b[38;5;129;01mand\u001b[39;00m \u001b[38;5;129;01mnot\u001b[39;00m file_like\u001b[38;5;241m.\u001b[39mendswith(\u001b[38;5;124m'\u001b[39m\u001b[38;5;124m.mat\u001b[39m\u001b[38;5;124m'\u001b[39m):\n\u001b[0;32m     44\u001b[0m         file_like \u001b[38;5;241m+\u001b[39m\u001b[38;5;241m=\u001b[39m \u001b[38;5;124m'\u001b[39m\u001b[38;5;124m.mat\u001b[39m\u001b[38;5;124m'\u001b[39m\n\u001b[1;32m---> 45\u001b[0m     \u001b[38;5;28;01mreturn\u001b[39;00m \u001b[38;5;28;43mopen\u001b[39;49m\u001b[43m(\u001b[49m\u001b[43mfile_like\u001b[49m\u001b[43m,\u001b[49m\u001b[43m \u001b[49m\u001b[43mmode\u001b[49m\u001b[43m)\u001b[49m, \u001b[38;5;28;01mTrue\u001b[39;00m\n\u001b[0;32m     46\u001b[0m \u001b[38;5;28;01melse\u001b[39;00m:\n\u001b[0;32m     47\u001b[0m     \u001b[38;5;28;01mraise\u001b[39;00m \u001b[38;5;167;01mOSError\u001b[39;00m(\n\u001b[0;32m     48\u001b[0m         \u001b[38;5;124m'\u001b[39m\u001b[38;5;124mReader needs file name or open file-like object\u001b[39m\u001b[38;5;124m'\u001b[39m\n\u001b[0;32m     49\u001b[0m     ) \u001b[38;5;28;01mfrom\u001b[39;00m \u001b[38;5;21;01me\u001b[39;00m\n",
      "\u001b[1;31mFileNotFoundError\u001b[0m: [Errno 2] No such file or directory: '..\\\\..\\\\..\\\\BarSed_Data\\\\ADV\\\\RUN082.mat'"
     ]
    }
   ],
   "source": [
    "Run_data.load_adv_data()\n",
    "\n",
    " \n",
    "# Get the script directory\n",
    "# Get the folder of the current script\n",
    "script_dir = get_script_directory()\n",
    "\n",
    "# Generate the model directory\n",
    "model_dir = os.path.join(script_dir, f\"\")\n"
   ]
  },
  {
   "cell_type": "code",
   "execution_count": null,
   "metadata": {},
   "outputs": [],
   "source": [
    "# Convert the wave maker date_time to time in seconds\n",
    "first_time = Run_data.ADVs[0].date_time[0]\n",
    "\n",
    "lab_time = np.array([(dt - first_time).total_seconds() for dt in Run_data.ADVs[0].date_time])\n"
   ]
  },
  {
   "cell_type": "code",
   "execution_count": null,
   "metadata": {},
   "outputs": [],
   "source": [
    "# Store the xbeach data\n",
    "results = XBeachModelAnalysis(fname = \"foo\", \n",
    "                              model_path=model_dir)\n",
    "\n",
    "results.load_modeloutput(\"u\")\n",
    "\n",
    "# Read in the output times from the data and convert from a maked array to regular array\n",
    "model_time = np.ma.getdata(results.var[\"globaltime\"])\n",
    "model_xdir = results.var[\"globalx\"][0, :].copy()\n"
   ]
  },
  {
   "cell_type": "code",
   "execution_count": null,
   "metadata": {},
   "outputs": [],
   "source": [
    "results.load_modeloutput(\"u\")\n",
    "model_u = results.var[\"u\"]"
   ]
  },
  {
   "cell_type": "code",
   "execution_count": null,
   "metadata": {},
   "outputs": [],
   "source": [
    "df = pd.read_csv(\"boun_U.bcf\", sep = \"\\\\s+\", skiprows=3, header=None, names=[\"t\", \"zs\", \"u\"])"
   ]
  },
  {
   "cell_type": "code",
   "execution_count": null,
   "metadata": {},
   "outputs": [],
   "source": [
    "plt.plot(model_time, model_u[:, 0, 0], label = \"xBeach\")\n",
    "plt.plot(df[\"t\"], df[\"u\"], label = \"input\")\n",
    "plt.title(\"Left boundary input velocity vs. xbeach output\")\n",
    "plt.legend()\n",
    "plt.show()"
   ]
  },
  {
   "cell_type": "code",
   "execution_count": null,
   "metadata": {},
   "outputs": [],
   "source": [
    "# Info about each of the advs\n",
    "for adv in Run_data.ADVs:\n",
    "    print(adv)\n",
    "    print()"
   ]
  },
  {
   "cell_type": "code",
   "execution_count": null,
   "metadata": {},
   "outputs": [],
   "source": [
    "for adv in Run_data.ADVs:\n",
    "    # Loop over the advs and plot some data\n",
    "\n",
    "    adv.quick_plot(keys = [ \"u\", \"u_ens_avg\"], legend = True, figsize = (8, 4))"
   ]
  },
  {
   "cell_type": "markdown",
   "metadata": {},
   "source": [
    "### Depth average the lab velocity"
   ]
  },
  {
   "cell_type": "code",
   "execution_count": null,
   "metadata": {},
   "outputs": [],
   "source": [
    "# Depth average the velocity\n",
    "Run_data.ADVs[0].vel[\"u\"]\n",
    "\n",
    "# Init variable to track the sum of the cleaned velocities\n",
    "sum_u = 0.0\n",
    "\n",
    "# Make an array to track how many times each indice is summed with a non-nan value\n",
    "num_sensors = np.zeros(len(Run_data.ADVs[0].vel[\"u\"]))\n",
    "# Loop over the advs\n",
    "for i, adv in enumerate(Run_data.ADVs[:6]):\n",
    "    # Sum the cleaned velocity\n",
    "    u = adv.vel[\"u\"]\n",
    "    \n",
    "    # Make an array where the values are zero if the value is nan and 1 if it's not nan\n",
    "    int_mask = np.where(np.isnan(u), 0, 1)\n",
    "\n",
    "    sum_u += np.nan_to_num(u)\n",
    "    # Make this an array that keeps track of how many times each element has been summed\n",
    "    # Some of the values are NaN in the arrays so we need to be able to keep track of each element \n",
    "    num_sensors += int_mask\n",
    "\n",
    "lab_u_avg = sum_u/num_sensors\n"
   ]
  },
  {
   "cell_type": "code",
   "execution_count": null,
   "metadata": {},
   "outputs": [],
   "source": [
    "lab_u_avg"
   ]
  },
  {
   "cell_type": "code",
   "execution_count": null,
   "metadata": {},
   "outputs": [],
   "source": [
    "plt.plot(Run_data.ADVs[0].date_time, lab_u_avg)"
   ]
  },
  {
   "cell_type": "markdown",
   "metadata": {},
   "source": [
    "### Information about the ADV\n",
    "The location of the ADV array was (45 m, 0.57 m) where the flume centerline (along the x-direction) is y = 0. This information came from page 6 of Mieras et al. Large-scale experimental observations of sheet flo.pdf <br>\n",
    "\n",
    "**Note**: The ADVs are off center. Just pointing that out so I don't forget. I'm not sure if the measurement is the location of the base of the adv or the actual measuring probe."
   ]
  },
  {
   "cell_type": "code",
   "execution_count": null,
   "metadata": {},
   "outputs": [],
   "source": [
    "# Set the coordinate for the advs\n",
    "lab_adv_xy_coord = [45, 0.57]\n",
    "\n",
    "# Find the closest location in the grid to the location of the Advs\n",
    "closest_loc, xdir_index = find_closest(model_xdir, lab_adv_xy_coord[0])\n",
    "\n",
    "print(f\"The closest location to 45 [m] for this grid is at: {closest_loc} [m]\")"
   ]
  },
  {
   "cell_type": "code",
   "execution_count": null,
   "metadata": {},
   "outputs": [],
   "source": [
    "model_u[:, 0, xdir_index]"
   ]
  },
  {
   "cell_type": "code",
   "execution_count": null,
   "metadata": {},
   "outputs": [],
   "source": [
    "# Plot the xBeach velocity at the closest location\n",
    "\n",
    "fig, axs = plt.subplots(nrows = 1, ncols = 1, figsize = (8, 4))\n",
    "\n",
    "axs = np.atleast_1d(axs)\n",
    "\n",
    "axs[0].plot(model_time, model_u[:, 0, xdir_index], label = \"xbeach\",\n",
    "            color = \"darkblue\", linestyle = \"dashed\")\n",
    "axs[0].plot(lab_time, lab_u_avg, label = \"Lab data\", \n",
    "            color = \"darkorange\")\n",
    "plt.legend()\n",
    "plt.show() "
   ]
  },
  {
   "cell_type": "code",
   "execution_count": null,
   "metadata": {},
   "outputs": [],
   "source": [
    "# Resample the lab data onto the model time.\n",
    "# There's a lot more lab data than model data for the current time step configuration\n",
    "lab_u_func = interp1d(lab_time, lab_u_avg)\n",
    "\n",
    "# Interpolate the model \n",
    "resamp_lab_u_avg = lab_u_func(model_time)"
   ]
  },
  {
   "cell_type": "code",
   "execution_count": null,
   "metadata": {},
   "outputs": [],
   "source": [
    "# Plot the xBeach velocity at the closest location\n",
    "\n",
    "fig, axs = plt.subplots(nrows = 1, ncols = 1, figsize = (8, 4))\n",
    "\n",
    "axs = np.atleast_1d(axs)\n",
    "\n",
    "axs[0].plot(model_time, model_u[:, 0, xdir_index], label = \"xbeach\",\n",
    "            color = \"darkblue\", linestyle = \"dashed\")\n",
    "\n",
    "axs[0].plot(lab_time, lab_u_avg, label = \"Lab data\", \n",
    "            color = \"darkorange\")\n",
    "\n",
    "axs[0].plot(model_time, resamp_lab_u_avg, label = \"resampled lab data\")\n",
    "\n",
    "axs[0].set_ylabel(\"u-velocity (m/s)\")\n",
    "axs[0].set_xlabel(\"Time (s)\")\n",
    "plt.legend()\n",
    "plt.show() "
   ]
  },
  {
   "cell_type": "code",
   "execution_count": null,
   "metadata": {},
   "outputs": [],
   "source": [
    "# Calc the rmse between the reinterpolated velocity\n",
    "u_avg_RMSE = calc_RMSE(resamp_lab_u_avg, model_u[:, 0, xdir_index])\n",
    "\n",
    "print(f\"u-avg RMSE: {u_avg_RMSE * 100:.2f}%\")"
   ]
  },
  {
   "cell_type": "code",
   "execution_count": null,
   "metadata": {},
   "outputs": [],
   "source": []
  }
 ],
 "metadata": {
  "kernelspec": {
   "display_name": "ERDC",
   "language": "python",
   "name": "python3"
  },
  "language_info": {
   "codemirror_mode": {
    "name": "ipython",
    "version": 3
   },
   "file_extension": ".py",
   "mimetype": "text/x-python",
   "name": "python",
   "nbconvert_exporter": "python",
   "pygments_lexer": "ipython3",
   "version": "3.12.3"
  }
 },
 "nbformat": 4,
 "nbformat_minor": 2
}
