{
 "cells": [
  {
   "cell_type": "markdown",
   "metadata": {},
   "source": [
    "Use this notebook to run and analyze the results from the xbeach model.\n",
    "\n",
    "* Try to match the wave heights first. Also need to be checking the depth averaged velocity but that isn't measured at that many locations\n",
    "* Try to get a general fit with this model not an exact one\n",
    "\n",
    "\n",
    "Author: WaveHello\n",
    "\n",
    "Date: 07/15/2024"
   ]
  },
  {
   "cell_type": "code",
   "execution_count": null,
   "metadata": {},
   "outputs": [],
   "source": [
    "# import default modules\n",
    "import numpy as np\n",
    "import matplotlib.pyplot as plt\n",
    "import sys\n",
    "import os\n",
    "import pandas as pd\n",
    "import math\n",
    "\n",
    "# Set global constants\n",
    "PI = np.pi\n",
    "\n",
    "# method to import xbtools with try routine\n",
    "try:\n",
    "    import xbTools\n",
    "except ImportError:\n",
    "    print('**no xbTools installation found in environment, adding parent path of notebook to see if it works')\n",
    "    sys.path.append(r\"..\\..\\..\\xbeach-toolbox\")"
   ]
  },
  {
   "cell_type": "code",
   "execution_count": null,
   "metadata": {},
   "outputs": [],
   "source": [
    "from xbTools.xbeachpost import XBeachModelAnalysis\n",
    "from xbTools.general.executing_runs import generate_batch_script, run_batch_script"
   ]
  },
  {
   "cell_type": "code",
   "execution_count": null,
   "metadata": {},
   "outputs": [],
   "source": [
    "# Functions \n",
    "def get_script_directory():\n",
    "    try:\n",
    "        # This will work if the script is run directly\n",
    "        script_path = os.path.abspath(__file__)\n",
    "    except NameError:\n",
    "        # This will work in an interactive environment like Jupyter\n",
    "        script_path = os.path.abspath('')\n",
    "    \n",
    "    return script_path"
   ]
  },
  {
   "cell_type": "code",
   "execution_count": null,
   "metadata": {},
   "outputs": [],
   "source": [
    "# Import the classes that represent the runs\n",
    "# Add the library to the path\n",
    "sys.path.append(r\"..\\..\\..\\BarSed_Lib\")\n",
    "\n",
    "# Import the library modules\n",
    "\n",
    "from lib.data_classes.Run import Run"
   ]
  },
  {
   "cell_type": "code",
   "execution_count": null,
   "metadata": {},
   "outputs": [],
   "source": [
    "# Import the raw bathymetry\n",
    "# Set the important paths\n",
    "barsed_data_path = r\"..\\..\\..\\BarSed_Data\"\n",
    "\n",
    "# Set the information needed for specifying the run\n",
    "# Run number\n",
    "run_number = \"001\"\n",
    "\n",
    "# Run id\n",
    "run_id = f\"RUN{run_number}\"\n",
    "\n",
    "# Mat file for the first run\n",
    "run_name = r\"{}.mat\".format(run_id)\n",
    "\n",
    "# Name of the folder containing the wave data\n",
    "WG_data_folder_name = r\"WG\" \n",
    "\n",
    "# Path to where I'm storing the wave data\n",
    "WG_data_path = os.path.join(barsed_data_path, WG_data_folder_name)\n",
    "\n",
    "# Path to the selected wave gauge data\n",
    "wave_data_path = os.path.join(WG_data_path, run_name)\n",
    "\n",
    "print(f\"Run{run_number} wave mat file path: {wave_data_path}\")\n",
    "\n",
    "# Adv files information\n",
    "ADV_data_folder_name = r\"ADV\"\n",
    "\n",
    "# Construct the path to the adv data\n",
    "ADV_folder_path = os.path.join(barsed_data_path, ADV_data_folder_name)\n",
    "\n",
    "ADV_run_path = os.path.join(ADV_folder_path, run_name)\n",
    "\n",
    "print(f\"Run{run_number} ADV mat file path: {ADV_run_path}\")\n"
   ]
  },
  {
   "cell_type": "code",
   "execution_count": null,
   "metadata": {},
   "outputs": [],
   "source": [
    "# Construct the wse elevation as mesured by the wave gauges \n",
    "# (doesn't include wave maker)\n",
    "Run_data.construct_wave_gauge_wse()\n",
    "\n",
    "# Make an array of all the wave gauge locations\n",
    "Run_data.get_wave_gauge_locations()\n",
    "\n",
    "# Construct the elevation of the flume as measured by the wave gauges and \n",
    "# the wave maker\n",
    "Run_data.construct_flume_wse()\n",
    "\n",
    "# get the lab wave gauge locations\n",
    "lab_xdir = Run\n",
    "\n",
    "# Don't include the wave maker\n",
    "# Get the lab wave gauge flume wse\n",
    "lab_wse = Run_data.flume_wse[:, 1:]\n",
    "lab_wg_locs = Run_data.flume_wse_locs[0, 1:]\n"
   ]
  },
  {
   "cell_type": "code",
   "execution_count": null,
   "metadata": {},
   "outputs": [],
   "source": [
    "print(lab_wg_locs)"
   ]
  },
  {
   "cell_type": "code",
   "execution_count": null,
   "metadata": {},
   "outputs": [],
   "source": [
    "# Get the script directory\n",
    "# Get the folder of the current script\n",
    "script_dir = get_script_directory()\n",
    "\n",
    "# Generate the model directory\n",
    "model_dir = os.path.join(script_dir, f\"\")\n",
    "\n",
    "# Need to batch file path\n",
    "batch_file_name = \"run_model.bat\"\n",
    "batch_file_path = os.path.join(model_dir, batch_file_name)\n",
    "\n",
    "# Run the batch file\n",
    "run_batch_script(batch_file_path, flag_print_Blog = False)\n",
    "\n"
   ]
  },
  {
   "cell_type": "code",
   "execution_count": null,
   "metadata": {},
   "outputs": [],
   "source": [
    "# Store the xbeach data\n",
    "results = XBeachModelAnalysis(fname = \"foo\", \n",
    "                              model_path=model_dir)"
   ]
  },
  {
   "cell_type": "code",
   "execution_count": null,
   "metadata": {},
   "outputs": [],
   "source": [
    "results.set_save_fig(False)\n",
    "results.set_plot_localcoords(False)\n",
    "results.set_plot_km_coords(False)"
   ]
  },
  {
   "cell_type": "code",
   "execution_count": null,
   "metadata": {},
   "outputs": [],
   "source": [
    "results.load_modeloutput(\"u\")"
   ]
  },
  {
   "cell_type": "code",
   "execution_count": null,
   "metadata": {},
   "outputs": [],
   "source": [
    "results.var.keys()\n",
    "results.load_modeloutput(\"zs\")\n",
    "results.load_modeloutput(\"zb\")"
   ]
  },
  {
   "cell_type": "code",
   "execution_count": null,
   "metadata": {},
   "outputs": [],
   "source": [
    "model_time = results.var[\"globaltime\"]\n",
    "\n",
    "left_boundary_zs =  model_zs = results.var[\"zs\"][:, 0, 0]\n"
   ]
  },
  {
   "cell_type": "code",
   "execution_count": null,
   "metadata": {},
   "outputs": [],
   "source": [
    "model_xdir = results.var[\"globalx\"][0, :]\n",
    "print(model_xdir)"
   ]
  },
  {
   "cell_type": "code",
   "execution_count": null,
   "metadata": {},
   "outputs": [],
   "source": [
    "nrows = 5\n",
    "fig, axs = plt.subplots(nrows = nrows, ncols = 1, figsize = (8,nrows * (1.6)))\n",
    "\n",
    "# Convert the axs to an array so I can index it, helps if I add more subplots\n",
    "axs = np.atleast_1d(axs)\n",
    "\n",
    "# Calc an equal step size to fill the plots\n",
    "step = math.ceil(len(model_time) / nrows)\n",
    "\n",
    "# Get the time indices of the model_time arr to plot the data at\n",
    "time_indices = [val for val in range(0, len(model_time), step)]\n",
    "\n",
    "# Get the location of the xgrid points\n",
    "model_xdir = results.var[\"globalx\"][0, :]\n",
    "\n",
    "# Plot each of surface vs. plots\n",
    "for i, time_index in enumerate(time_indices):\n",
    "    # Get the plot time\n",
    "    time = model_time[time_index]\n",
    "\n",
    "    # Set the surface elevation at the selected time\n",
    "    model_zs = results.var[\"zs\"][time_index, 0, :]\n",
    "\n",
    "    # Plot the surface elevation w/ time\n",
    "    axs[i].plot(model_xdir, model_zs, label = \"Model\")\n",
    "    \n",
    "    # Plot the measured data\n",
    "    axs[i].plot()\n",
    "\n",
    "    if True:\n",
    "        axs[i].set_title(f\"Time: {time}\")\n",
    "    if False:\n",
    "        # Format the plot\n",
    "        axs[i].set_xlabel(\"Time (s)\")\n",
    "        axs[i].set_ylabel(\"Surface elevation (m)\")\n",
    "\n",
    "plt.tight_layout()\n",
    "plt.show()\n",
    "# Compare it against the lab data"
   ]
  },
  {
   "cell_type": "code",
   "execution_count": null,
   "metadata": {},
   "outputs": [],
   "source": [
    "# Load the wave maker data\n",
    "df_wave_maker = pd.read_csv(\"wave_maker.csv\")\n",
    "display(df_wave_maker)\n",
    "\n",
    "# Get the time of lab measurements\n",
    "lab_time = df_wave_maker[\"time\"]"
   ]
  },
  {
   "cell_type": "code",
   "execution_count": null,
   "metadata": {},
   "outputs": [],
   "source": [
    "# Plot the data at the prescribed boundary\n",
    "fig, axs = plt.subplots(nrows = 1, ncols = 1, figsize = (8, 4))\n",
    "\n",
    "axs = np.atleast_1d(axs)\n",
    "\n",
    "\n",
    "i = 0\n",
    "axs[i].plot(lab_time, df_wave_maker[\"wse\"], \n",
    "            linestyle = \"dashed\", label = \"Measured\")\n",
    "axs[i].plot(model_time, left_boundary_zs, label = \"Model\")\n",
    "\n",
    "# Format the plot\n",
    "axs[i].legend()\n",
    "axs[i].set_title(\"Surface Elev. at left boundary\")\n",
    "axs[i].set_xlabel(\"Time (s)\")\n",
    "axs[i].set_ylabel(\"Surface Elevation\")\n",
    "\n",
    "plt.tight_layout()\n",
    "plt.show()"
   ]
  },
  {
   "cell_type": "code",
   "execution_count": null,
   "metadata": {},
   "outputs": [],
   "source": [
    "lab_time"
   ]
  },
  {
   "cell_type": "code",
   "execution_count": null,
   "metadata": {},
   "outputs": [],
   "source": [
    "def find_closest(array, target):\n",
    "    # Convert array to a NumPy array if it is not already\n",
    "    array = np.array(array)\n",
    "    \n",
    "    # Compute the absolute differences between each element and the target\n",
    "    diff = np.abs(array - target)\n",
    "    \n",
    "    # Find the index of the minimum difference\n",
    "    idx = diff.argmin()\n",
    "    \n",
    "    # Get the value at that index\n",
    "    closest_value = array[idx]\n",
    "    \n",
    "    return closest_value, idx"
   ]
  },
  {
   "cell_type": "code",
   "execution_count": null,
   "metadata": {},
   "outputs": [],
   "source": [
    "zs0 = results.var[\"zs\"][0, 0, 0]\n",
    "zb  = results.var[\"zb\"]\n",
    "\n",
    "# get the xgrid\n",
    "x_grd = results.var[\"globalx\"][0]\n",
    "print(x_grd)"
   ]
  },
  {
   "cell_type": "code",
   "execution_count": null,
   "metadata": {},
   "outputs": [],
   "source": [
    "zb[0, 0, :]"
   ]
  },
  {
   "cell_type": "code",
   "execution_count": null,
   "metadata": {},
   "outputs": [],
   "source": [
    "from scipy.interpolate import interp1d\n",
    "\n",
    "# Make a function for the bathymatery\n",
    "# bathy_func now takes in an x - location and outputs the corresponding z location\n",
    "bathy_func = interp1d(x_grd, zb[0, 0, :])\n",
    "\n"
   ]
  },
  {
   "cell_type": "code",
   "execution_count": null,
   "metadata": {},
   "outputs": [],
   "source": [
    "nrows = 40\n",
    "fig, axs = plt.subplots(nrows = nrows, ncols = 1, figsize = (8,nrows * (1.6)))\n",
    "\n",
    "# Convert the axs to an array so I can index it, helps if I add more subplots\n",
    "axs = np.atleast_1d(axs)\n",
    "\n",
    "# Calc an equal step size to fill the plots\n",
    "step = math.ceil(len(model_time) / nrows)\n",
    "\n",
    "# Get the time indices of the model_time arr to plot the data at\n",
    "time_indices = [val for val in range(0, len(model_time), step)]\n",
    "\n",
    "# Get the location of the xgrid points\n",
    "model_xdir = results.var[\"globalx\"][0, :]\n",
    "\n",
    "# Plot each of surface vs. plots\n",
    "for i, time_index in enumerate(time_indices):\n",
    "    # Get the plot time\n",
    "    model_t = model_time[time_index]\n",
    "\n",
    "    # Get the closest lab time\n",
    "    lab_t, lab_index = find_closest(lab_time, model_t)\n",
    "    # Set the surface elevation at the selected time\n",
    "    model_zs = results.var[\"zs\"][time_index, 0, :]\n",
    "\n",
    "    # Plot the surface elevation w/ time\n",
    "    axs[i].plot(model_xdir, model_zs, label = \"Model\")\n",
    "\n",
    "    # Make a copy of the wse elevation from the gauges\n",
    "    lab_wse_copy = lab_wse.copy()\n",
    "\n",
    "    # move the wave gauges up by the wse - except for the last one, it's too far too the right\n",
    "    # for it to measure the d0 water level\n",
    "    lab_wse_copy[lab_index, :-1] = lab_wse_copy[lab_index, :-1] + zs0\n",
    "\n",
    "    lab_wse_copy[lab_index, -1] = lab_wse_copy[lab_index, -1] + bathy_func(lab_wg_locs[-1])\n",
    "\n",
    "    # Plot the measured data\n",
    "    axs[i].scatter(lab_wg_locs, lab_wse_copy[lab_index, :], \n",
    "                label = \"lab data {:.2f}\".format(lab_t),\n",
    "                marker = \".\", color = \"red\")\n",
    "    \n",
    "    # Plot the bathymtry\n",
    "    \n",
    "    # Selecting if only the waves should be plotted\n",
    "    if False:\n",
    "        axs[i].plot(model_xdir, zb[time_index, 0, :], label = \"bathy\")\n",
    "    else:\n",
    "        # Select only the waves\n",
    "        axs[i].set_ylim(zs0-0.8, 4)\n",
    "\n",
    "    # Setting the legend\n",
    "    if False:\n",
    "        axs[i].legend()\n",
    "    if True:\n",
    "        axs[i].set_title(\"Time: {:.2f}\".format(model_t))\n",
    "\n",
    "    # Setting x and y labels - get's kind of messy when there are lots of plots\n",
    "    if False:\n",
    "        # Format the plot\n",
    "        axs[i].set_xlabel(\"Time (s)\")\n",
    "        axs[i].set_ylabel(\"Surface elevation (m)\")\n",
    "\n",
    "plt.tight_layout()\n",
    "plt.show()\n",
    "# Compare it against the lab data"
   ]
  },
  {
   "cell_type": "code",
   "execution_count": null,
   "metadata": {},
   "outputs": [],
   "source": [
    "bathy_func(lab_wg_locs[-1])"
   ]
  },
  {
   "cell_type": "code",
   "execution_count": null,
   "metadata": {},
   "outputs": [],
   "source": [
    "results.load_modeloutput(\"u\")\n",
    "u = results.var[\"u\"]"
   ]
  },
  {
   "cell_type": "code",
   "execution_count": null,
   "metadata": {},
   "outputs": [],
   "source": [
    "df = pd.read_csv(\"boun_U.bcf\", sep = \"\\\\s+\", skiprows=3, header=None, names=[\"t\", \"zs\", \"u\"])"
   ]
  },
  {
   "cell_type": "code",
   "execution_count": null,
   "metadata": {},
   "outputs": [],
   "source": [
    "plt.plot(model_time, u[:, 0, 0], label = \"xBeach\")\n",
    "plt.plot(df[\"t\"], df[\"u\"], label = \"input\")\n",
    "plt.title(\"Left boundary input vs. xbeach output\")\n",
    "plt.legend()\n",
    "plt.show()"
   ]
  },
  {
   "cell_type": "code",
   "execution_count": null,
   "metadata": {},
   "outputs": [],
   "source": [
    "print(Run_data.wave_gauges[-1])"
   ]
  }
 ],
 "metadata": {
  "kernelspec": {
   "display_name": "ERDC",
   "language": "python",
   "name": "python3"
  },
  "language_info": {
   "codemirror_mode": {
    "name": "ipython",
    "version": 3
   },
   "file_extension": ".py",
   "mimetype": "text/x-python",
   "name": "python",
   "nbconvert_exporter": "python",
   "pygments_lexer": "ipython3",
   "version": "3.12.3"
  }
 },
 "nbformat": 4,
 "nbformat_minor": 2
}
