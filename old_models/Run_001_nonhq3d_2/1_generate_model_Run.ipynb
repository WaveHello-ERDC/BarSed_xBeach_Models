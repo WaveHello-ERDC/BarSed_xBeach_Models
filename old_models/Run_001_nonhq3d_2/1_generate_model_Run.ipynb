{
 "cells": [
  {
   "cell_type": "markdown",
   "metadata": {},
   "source": [
    "## Info\n",
    "Setting up the model to receate the hydrosynamics of the Solitary Wave model from BarSed.\n",
    "\n",
    "Author: WaveHello\n",
    "\n",
    "Date: 07/15/2024\n",
    "\n",
    "### Notes\n",
    "ADV data and pressure data for the solitary wave cases aren't in the folders I downloaded. I'm not sure where that data is or if it was recorded."
   ]
  },
  {
   "attachments": {
    "image.png": {
     "image/png": "[encoded data removed]"
    }
   },
   "cell_type": "markdown",
   "metadata": {},
   "source": [
    "This code is from the wave_bc subroutine of xBeach. This requires\n",
    "order = 2 <br>\n",
    "lwave = 1 <br>\n",
    "or the velocities are zeroed. There is other conditions in the code that use the order = 2 condtion or the velocities go to zero condition so in general make sure you use order = 2.\n",
    "\n",
    "![image.png](attachment:image.png)"
   ]
  },
  {
   "cell_type": "code",
   "execution_count": null,
   "metadata": {},
   "outputs": [],
   "source": [
    "# import default modules\n",
    "import numpy as np\n",
    "import matplotlib.pyplot as plt\n",
    "import os\n",
    "import sys\n",
    "import scipy\n",
    "import pandas as pd\n",
    "from scipy import special\n",
    "\n",
    "# Set global constants\n",
    "PI = np.pi\n",
    "G = 9.81\n",
    "\n",
    "# method to import xbtools with try routine\n",
    "try:\n",
    "    import xbTools\n",
    "except ImportError:\n",
    "    print('**no xbTools installation found in environment, adding parent path of notebook to see if it works')\n",
    "    sys.path.append(r\"..\\..\\..\\xbeach-toolbox\")"
   ]
  },
  {
   "cell_type": "code",
   "execution_count": null,
   "metadata": {},
   "outputs": [],
   "source": [
    "# Import the classes that represent the runs\n",
    "# Add the library to the path\n",
    "sys.path.append(r\"..\\..\\..\\BarSed_Lib\")\n",
    "\n",
    "# Import the library modules\n",
    "\n",
    "from lib.data_classes.Run import Run\n",
    "from lib.general_funcs.signal_processing import moving_average_filter\n",
    "from lib.general_funcs.kinematic_funcs import calc_velocity\n",
    "from lib.general_funcs.path_funcs import create_directory_if_not_exists\n"
   ]
  },
  {
   "cell_type": "code",
   "execution_count": null,
   "metadata": {},
   "outputs": [],
   "source": [
    "from xbTools.grid.creation import xgrid\n",
    "from xbTools.xbeachtools import XBeachModelSetup\n",
    "from xbTools.xbeachpost import XBeachModelAnalysis\n",
    "from xbTools.general.executing_runs import generate_batch_script, run_batch_script\n"
   ]
  },
  {
   "cell_type": "code",
   "execution_count": null,
   "metadata": {},
   "outputs": [],
   "source": [
    "# Fuctions\n",
    "def get_script_directory():\n",
    "    try:\n",
    "        # This will work if the script is run directly\n",
    "        script_path = os.path.abspath(__file__)\n",
    "    except NameError:\n",
    "        # This will work in an interactive environment like Jupyter\n",
    "        script_path = os.path.abspath('')\n",
    "    \n",
    "    return script_path\n",
    "\n"
   ]
  },
  {
   "cell_type": "markdown",
   "metadata": {},
   "source": [
    "### Set the information for the selected Run"
   ]
  },
  {
   "cell_type": "code",
   "execution_count": null,
   "metadata": {},
   "outputs": [],
   "source": [
    "# Import the raw bathymetry\n",
    "# Set the important paths\n",
    "barsed_data_path = r\"D:\\ERDC\\BarSed_Data\"\n",
    "\n",
    "# Set the information needed for specifying the run\n",
    "# Run number\n",
    "run_number = \"013\"\n",
    "\n",
    "# Run id\n",
    "run_id = f\"RUN{run_number}\"\n",
    "\n",
    "# Mat file for the first run\n",
    "run_name = r\"{}.mat\".format(run_id)\n"
   ]
  },
  {
   "cell_type": "markdown",
   "metadata": {},
   "source": [
    "### Set data that isn't directly available in the inputs"
   ]
  },
  {
   "cell_type": "markdown",
   "metadata": {},
   "source": [
    "### Get the bathymetry for the model"
   ]
  },
  {
   "cell_type": "code",
   "execution_count": null,
   "metadata": {},
   "outputs": [],
   "source": [
    "# Name of the bathy data binary\n",
    "bathy_file_name = r\"bathy.mat\"\n",
    "\n",
    "# Path to where I'm storing the bathymetry data\n",
    "bathy_file_path = os.path.join(barsed_data_path, bathy_file_name)\n",
    "\n",
    "print(f\"Bathy file path: {bathy_file_path}\")"
   ]
  },
  {
   "cell_type": "markdown",
   "metadata": {},
   "source": [
    "### Get the path to the wave gauge data"
   ]
  },
  {
   "cell_type": "code",
   "execution_count": null,
   "metadata": {},
   "outputs": [],
   "source": [
    "\n",
    "# Name of the folder containing the wave data\n",
    "WG_data_folder_name = r\"WG\" \n",
    "\n",
    "# Path to where I'm storing the bathymetry data\n",
    "WG_data_path = os.path.join(barsed_data_path, WG_data_folder_name)\n",
    "\n",
    "# Path to the selected wave gauge data\n",
    "wave_data_path = os.path.join(WG_data_path, run_name)\n",
    "\n",
    "print(f\"Run{run_number} wave mat file path: {wave_data_path}\")"
   ]
  },
  {
   "cell_type": "markdown",
   "metadata": {},
   "source": [
    "### Get the path to the adv data\n",
    "The period of the wave maker is stored in this data. Not using it for anything else at the momement."
   ]
  },
  {
   "cell_type": "code",
   "execution_count": null,
   "metadata": {},
   "outputs": [],
   "source": [
    "# Name of the folder containing the adv data\n",
    "ADV_data_folder_name = r\"ADV\"\n",
    "\n",
    "# Path to where the velocity data is being stored\n",
    "ADV_data_path = os.path.join(barsed_data_path, ADV_data_folder_name)\n",
    "\n",
    "# Path to the adv data for the selected run\n",
    "ADV_file_path = os.path.join(ADV_data_path, run_name)\n",
    "\n",
    "print(f\"{ADV_data_folder_name} file path: {ADV_data_path}\")\n",
    "print(\"{} Data for mat file path: {}\".format(ADV_data_folder_name, ADV_file_path))"
   ]
  },
  {
   "cell_type": "markdown",
   "metadata": {},
   "source": [
    "### Collect the bathymetry data"
   ]
  },
  {
   "cell_type": "code",
   "execution_count": null,
   "metadata": {},
   "outputs": [],
   "source": [
    "# Make a plot of the bathymetry to make sure the data is right\n",
    "# Load the .mat file\n",
    "bathy_dict = scipy.io.loadmat(bathy_file_path)\n",
    "\n",
    "# Get the bathymetry data\n",
    "bathy_df = pd.DataFrame(bathy_dict[\"bathy\"], columns = [\"x_loc\", \"z_loc\"])\n",
    "\n",
    "bathy_df.plot(\"x_loc\", \"z_loc\", marker = \".\", \n",
    "              figsize = (12, 3), label = \"Bathy\", \n",
    "              ylabel= \"Elevation (m)\", xlabel = \"Flume Length (m)\"\n",
    ")\n",
    "\n",
    "plt.legend()\n",
    "plt.show()"
   ]
  },
  {
   "cell_type": "code",
   "execution_count": null,
   "metadata": {},
   "outputs": [],
   "source": [
    "bathy_df"
   ]
  },
  {
   "cell_type": "markdown",
   "metadata": {},
   "source": [
    "### Construct the Run object\n",
    "This object will help organize the data and help store the data"
   ]
  },
  {
   "cell_type": "code",
   "execution_count": null,
   "metadata": {},
   "outputs": [],
   "source": [
    "Run_data = Run(id = run_id, wave_file_path=wave_data_path,\n",
    "              ADV_file_path = ADV_file_path)\n",
    "\n",
    "print(Run_data)\n"
   ]
  },
  {
   "cell_type": "markdown",
   "metadata": {},
   "source": [
    "### Collect the wave gauge data"
   ]
  },
  {
   "cell_type": "code",
   "execution_count": null,
   "metadata": {},
   "outputs": [],
   "source": [
    "Run_data.load_wave_data()\n",
    "\n",
    "print(Run_data.wave_maker)\n",
    "\n",
    "Run_data.wave_maker.quick_wse_plot()"
   ]
  },
  {
   "cell_type": "code",
   "execution_count": null,
   "metadata": {},
   "outputs": [],
   "source": [
    "Run_data.wave_maker.quick_position_plot()"
   ]
  },
  {
   "cell_type": "markdown",
   "metadata": {},
   "source": [
    "## Smoothing the surface data"
   ]
  },
  {
   "cell_type": "code",
   "execution_count": null,
   "metadata": {},
   "outputs": [],
   "source": [
    "# Convert the wave maker date_time to time in seconds\n",
    "first_time = Run_data.wave_maker.date_time[0]\n",
    "\n",
    "seconds_from_first = np.array([(dt - first_time).total_seconds() for dt in Run_data.wave_maker.date_time])\n"
   ]
  },
  {
   "cell_type": "code",
   "execution_count": null,
   "metadata": {},
   "outputs": [],
   "source": [
    "# Plot the wave maker location as a function of time in seconds\n",
    "\n",
    "fig, axs = plt.subplots(nrows = 1, ncols = 1)\n",
    "\n",
    "axs = np.atleast_1d(axs)\n",
    "\n",
    "shift = 10\n",
    "wave_maker_loc = Run_data.wave_maker.position\n",
    "axs[0].plot(seconds_from_first, wave_maker_loc, label = \"Measured\")\n",
    "\n",
    "plt.legend()\n",
    "plt.show()"
   ]
  },
  {
   "cell_type": "markdown",
   "metadata": {},
   "source": [
    "## Generating the xBeach inputs"
   ]
  },
  {
   "cell_type": "markdown",
   "metadata": {},
   "source": [
    "### Generating the Bathymetry"
   ]
  },
  {
   "cell_type": "code",
   "execution_count": null,
   "metadata": {},
   "outputs": [],
   "source": [
    "# Reinterpolate the raw bathymetry for the xBeach model\n",
    "\n",
    "x = np.array(bathy_df[\"x_loc\"])\n",
    "z = np.array(bathy_df[\"z_loc\"])\n",
    "\n",
    "# Add the zero to the arrays\n",
    "x = np.concatenate(([0.0], x))\n",
    "z = np.concatenate(([0.0], z))\n",
    "\n",
    "# x_zero = np.array(0, )\n",
    "xgr, zgr = xgrid(x, z, dxmax = 0.1, dxmin = 0.5)\n",
    "\n",
    "\n",
    "fig, axs = plt.subplots(nrows = 1, ncols = 1, figsize = (10, 3))\n",
    "\n",
    "# Convert axs to an array so I can iterate over it if needed\n",
    "axs = np.atleast_1d(axs)\n",
    "\n",
    "axs[0].plot(x, z    , marker = \"*\", label = \"Bathy\")\n",
    "axs[0].plot(xgr, zgr, marker = \".\", label = \"xgr\")\n",
    "# axs[0].axhline(y = 3.0)\n",
    "axs[0].set_xlabel(\"x-distance (m)\")\n",
    "axs[0].set_ylabel(\"Flume Elevation (m)\")\n",
    "\n",
    "plt.title(\"BarSed Experiment - OSU Flume Elevation Plot\")\n",
    "plt.show()\n",
    "#TODO: Need to look into what the proper procedure for \n"
   ]
  },
  {
   "cell_type": "markdown",
   "metadata": {},
   "source": [
    "### Generating the wave data"
   ]
  },
  {
   "cell_type": "code",
   "execution_count": null,
   "metadata": {},
   "outputs": [],
   "source": [
    "print(Run_data)"
   ]
  },
  {
   "cell_type": "code",
   "execution_count": null,
   "metadata": {},
   "outputs": [],
   "source": [
    "print(Run_data.wave_gauges[0])"
   ]
  },
  {
   "cell_type": "code",
   "execution_count": null,
   "metadata": {},
   "outputs": [],
   "source": [
    "# Set information\n",
    "zs0 =  2.448 # From Mieras et al. 2.1 Experiemental Setup\n",
    "\n",
    "# Offset the water suface elevation from the bottom\n",
    "eta = zs0 + Run_data.wave_maker.eta_wm\n",
    "# Generate the wave boundary condition\n",
    "\n",
    "# Calc the velocity of the\n",
    "\n",
    "print(f\"Water surface elevation: {zs0} [m]\")\n",
    "plt.plot(seconds_from_first, eta)\n",
    "plt.xlabel(\"Time (s)\")\n",
    "plt.ylabel(\"Water surface elevation (m)\")\n",
    "plt.show()"
   ]
  },
  {
   "cell_type": "markdown",
   "metadata": {},
   "source": [
    "### Generating the computational params for the model"
   ]
  },
  {
   "cell_type": "code",
   "execution_count": null,
   "metadata": {},
   "outputs": [],
   "source": [
    "xb_setup = XBeachModelSetup('Rand_vel_v1_1')\n",
    "\n",
    "xb_setup.set_grid(xgr, None, zgr, posdwn=-1, alfa=0)\n",
    "xb_setup.set_nebed(np.ones_like(zgr))\n",
    "xb_setup.set_friction(np.ones_like(zgr))"
   ]
  },
  {
   "cell_type": "markdown",
   "metadata": {},
   "source": [
    "### Wave maker boundary conditon in the x-direction for one directional flow\n",
    "\n",
    "From Dean and Dalrymple if $S(z, t)$ is the displacement of the wave maker. Wave maker is pined at the bottom and rotates about that point. Then \n",
    "\n",
    "$$x = S(z, t) $$\n",
    "\n",
    "which means a surface, $F$ can be defined with\n",
    "\n",
    "$$F = x - S(z, t) = 0$$\n",
    "\n",
    "using the condtion that $$ \\frac{DF}{Dt} = 0 $$ where $$ \\frac{D \\cdot}{Dt}$$ is the material derivative. Using this relation Dean and Dalrymple derive the relation that \n",
    "\n",
    "$$ u - w \\frac{\\partial S }{ \\partial z } = \\frac{\\partial S}{ \\partial t} |_{on  x = S(z,t)}$$\n",
    "\n",
    "Given that I don't have the $w$ velocity and I need the $u$ velocity as an input to xbeach I'm going to assume that the wave maker doesn't make that big of an angle such that \n",
    "\n",
    "$$\\frac{\\partial S}{\\partial z} \\approx 0$$\n",
    "\n",
    "and that \n",
    "\n",
    "$$ u = \\frac{\\partial S }{\\partial t} = \\frac{d S}{d t}$$\n",
    "\n",
    "Turns out the wave m\n"
   ]
  },
  {
   "cell_type": "code",
   "execution_count": null,
   "metadata": {},
   "outputs": [],
   "source": [
    "x0 = Run_data.wave_maker.position\n",
    "\n",
    "# Calc the increment of displacement\n",
    "# /delta S where S is the displacement\n",
    "inc_displacement = x0[1:] - x0[:-1]\n",
    "\n",
    "# Calc the time increment\n",
    "inc_time = seconds_from_first[1:] - seconds_from_first[:-1]\n",
    "\n",
    "# Calc the velocity = \\delta S / /delta t, assuming that the slope \\partial S\n",
    "u = calc_velocity(x0, seconds_from_first)\n",
    "\n"
   ]
  },
  {
   "cell_type": "code",
   "execution_count": null,
   "metadata": {},
   "outputs": [],
   "source": [
    "plt.plot(u)"
   ]
  },
  {
   "cell_type": "code",
   "execution_count": null,
   "metadata": {},
   "outputs": [],
   "source": [
    "window_size = 75\n",
    "\n",
    "# Get the time that corresponds to the veloctity\n",
    "vel_time = seconds_from_first[1:]\n",
    "\n",
    "smoothed_time = moving_average_filter(vel_time, window_size)\n",
    "smoothed_u = moving_average_filter(u, window_size)\n",
    "\n",
    "plt.plot(vel_time, u, color = \"blue\", label = \"original\")\n",
    "plt.plot(smoothed_time, smoothed_u  , color = \"maroon\", label = \"smoothed Velocity\")\n",
    "plt.legend()"
   ]
  },
  {
   "cell_type": "code",
   "execution_count": null,
   "metadata": {},
   "outputs": [],
   "source": [
    "# Need to also apply the filter to the surface pertubation \n",
    "# so that the array is the sam length as the velocity array \n",
    "smoothed_eta = moving_average_filter(eta, window_size)"
   ]
  },
  {
   "cell_type": "code",
   "execution_count": null,
   "metadata": {},
   "outputs": [],
   "source": [
    "plt.plot(smoothed_eta)"
   ]
  },
  {
   "cell_type": "code",
   "execution_count": null,
   "metadata": {},
   "outputs": [],
   "source": [
    "# Addding a the initial values to offset from the smoothing\n",
    "\n",
    "# Making the initial velocity zero\n",
    "smoothed_u  = np.insert(smoothed_u, 0, 0.0)\n",
    "\n",
    "# Making the initial surface elevation zs0\n",
    "smoothed_eta[0] = zs0\n",
    "\n",
    "# Make the initial time zreo\n",
    "smoothed_time = np.insert(smoothed_time, 0, 0.0)"
   ]
  },
  {
   "cell_type": "code",
   "execution_count": null,
   "metadata": {},
   "outputs": [],
   "source": [
    "# Init params so that the velocity and surface pertubation can be scalled\n",
    "zs_scaling = 1.0\n",
    "u_scale = 1.0\n",
    "\n",
    "# u_window = np.ones(len(u_window))\n",
    "\n",
    "boun_U_dict = {\"make_file\": True,\n",
    "               \"file_name\": \"boun_U.bcf\",\n",
    "               \"dimension\": \"scalar\",\n",
    "               \"variable_dict\": {\n",
    "                   \"t\" : smoothed_time,\n",
    "                   \"zs\": zs_scaling * (smoothed_eta - zs0), # Pertubation from the intial water surface\n",
    "                   \"U\" : u_scale * smoothed_u, \n",
    "               }         \n",
    "}\n",
    "\n",
    "xb_setup.set_waves('ts_nonh', input_struct=boun_U_dict)\n",
    "\n",
    "tolerance = 0.01\n",
    "if abs(zs_scaling - 1.0) > tolerance:\n",
    "    print(f\"WARNING: USING a zs scaling of {zs_scaling}. This doesn't make physical sense\")\n",
    "\n",
    "if abs(u_scale - 1.0) > tolerance:\n",
    "    print(f\"WARNING: USING a zs scaling of {zs_scaling}. This doesn't make physical sense\")"
   ]
  },
  {
   "attachments": {
    "image.png": {
     "image/png": "[encoded data removed]"
    }
   },
   "cell_type": "markdown",
   "metadata": {},
   "source": [
    "### Manning coefficients\n",
    "![image.png](attachment:image.png)"
   ]
  },
  {
   "cell_type": "code",
   "execution_count": null,
   "metadata": {},
   "outputs": [],
   "source": [
    "xb_setup.set_params({ \"wbctype\"     : \"ts_nonh\",\n",
    "                    #  \"taper\"        : 0.0,\n",
    "                     \"wavemodel\"    : \"nonh\",\n",
    "                     \"nonh\"         : 1,\n",
    "                     \"CFL\"          : 0.5,\n",
    "                     \"lateralwave\"  : \"neumann\",\n",
    "                     \"zs0\"          : zs0,\n",
    "                     'bedfriccoef'  : 0.015, # Manning - Wood form concrete channel\n",
    "                     'nonhq3d'      : 1,\n",
    "                     'nhlay'        : 0.33, \n",
    "                     'taper'        : 0.0, # Spin up time of wave boundary conditons in morphological time\n",
    "                    #  \"order\"        : 2,\n",
    "                     \"ARC\"          : 1,\n",
    "                     \"front\"        : \"nonh_1d\", \"back\" : \"abs_1d\",\n",
    "                     \"left\"         : \"wall\"   , \"right\": \"wall\",\n",
    "                     \"tstop\"        : boun_U_dict[\"variable_dict\"][\"t\"].max(),\n",
    "                     \"outputformat\" : \"netcdf\",\n",
    "                     \"tintm\"        : 0.1,\n",
    "                     \"tintp\"        : 0.1,\n",
    "                     \"tintg\"        : 0.1,\n",
    "                     'nglobalvar'   : ['zs', 'zb', 'H', \"u\", \"v\"],\n",
    "})"
   ]
  },
  {
   "cell_type": "code",
   "execution_count": null,
   "metadata": {},
   "outputs": [],
   "source": [
    "xb_setup.input_par"
   ]
  },
  {
   "cell_type": "markdown",
   "metadata": {},
   "source": [
    "### Generating the model files"
   ]
  },
  {
   "cell_type": "code",
   "execution_count": null,
   "metadata": {},
   "outputs": [],
   "source": [
    "# Get the folder of the current script\n",
    "script_dir = get_script_directory()\n",
    "\n",
    "# Generate the model directory\n",
    "model_dir = os.path.join(script_dir, f\"\")\n",
    "\n",
    "create_directory_if_not_exists(model_dir)\n",
    "\n",
    "exe_path = r\"..\\..\\..\\XBeach_1.24.6057_Halloween_win64_netcdf\\xbeach.exe\"\n",
    "\n",
    "# Make the batch file in the model dir\n",
    "generate_batch_script(model_dir, exe_path, batch_file_name = \"run_model.bat\", \n",
    "                      include_cd = False, batch_file_folder = None)\n",
    "\n",
    "\n",
    "batch_file_path = os.path.join(model_dir, \"run_model.bat\")\n"
   ]
  },
  {
   "cell_type": "code",
   "execution_count": null,
   "metadata": {},
   "outputs": [],
   "source": [
    "xb_setup.write_model(model_dir, num_dec_dig=10)"
   ]
  },
  {
   "cell_type": "code",
   "execution_count": null,
   "metadata": {},
   "outputs": [],
   "source": [
    "# Write the wave maker data to a txt file\n",
    "\n",
    "# Time, location, wse\n",
    "data = {\"time\"     : seconds_from_first,     \n",
    "        \"location\" : Run_data.wave_maker.position,\n",
    "        \"wse\"      : Run_data.wave_maker.eta_wm + zs0\n",
    "        }\n",
    "df = pd.DataFrame(data)\n",
    "display(df)\n",
    "df.to_csv(\"wave_maker.csv\", index = False)"
   ]
  },
  {
   "cell_type": "code",
   "execution_count": null,
   "metadata": {},
   "outputs": [],
   "source": [
    "print(Run_data.wave_gauges[-1])\n"
   ]
  },
  {
   "cell_type": "code",
   "execution_count": null,
   "metadata": {},
   "outputs": [],
   "source": [
    "shore_wave_gague = Run_data.wave_gauges[-1].eta\n",
    "\n",
    "plt.plot(shore_wave_gague)"
   ]
  }
 ],
 "metadata": {
  "kernelspec": {
   "display_name": "ERDC",
   "language": "python",
   "name": "python3"
  },
  "language_info": {
   "codemirror_mode": {
    "name": "ipython",
    "version": 3
   },
   "file_extension": ".py",
   "mimetype": "text/x-python",
   "name": "python",
   "nbconvert_exporter": "python",
   "pygments_lexer": "ipython3",
   "version": "3.12.3"
  }
 },
 "nbformat": 4,
 "nbformat_minor": 2
}
