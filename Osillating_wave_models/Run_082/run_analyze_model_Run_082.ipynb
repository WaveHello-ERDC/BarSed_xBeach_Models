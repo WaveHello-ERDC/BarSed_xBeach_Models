{
 "cells": [
  {
   "cell_type": "markdown",
   "metadata": {},
   "source": [
    "Use this notebook to run and analyze the results from the xbeach model.\n",
    "\n",
    "* Try to match the wave heights first. Also need to be checking the depth averaged velocity but that isn't measured at that many locations\n",
    "* Try to get a general fit with this model not an exact one\n",
    "\n",
    "\n",
    "Author: WaveHello\n",
    "\n",
    "Date: 07/15/2024"
   ]
  },
  {
   "cell_type": "code",
   "execution_count": null,
   "metadata": {},
   "outputs": [],
   "source": []
  }
 ],
 "metadata": {
  "language_info": {
   "name": "python"
  }
 },
 "nbformat": 4,
 "nbformat_minor": 2
}
